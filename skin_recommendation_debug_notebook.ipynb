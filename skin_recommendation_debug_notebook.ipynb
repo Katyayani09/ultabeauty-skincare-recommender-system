{
 "cells": [
  {
   "cell_type": "markdown",
   "id": "9bac727d",
   "metadata": {},
   "source": [
    "## Skin Recommendation App - Debug Notebook\n",
    "\n",
    "This notebook is generated from `app.py`. It includes step-by-step validation and debugging to ensure that each part of the code works correctly."
   ]
  },
  {
   "cell_type": "code",
   "execution_count": 1,
   "id": "b1f5d7b1",
   "metadata": {},
   "outputs": [],
   "source": [
    "# Import required libraries\n",
    "import pandas as pd\n",
    "import streamlit as st  # Assuming you are using Streamlit functions\n"
   ]
  },
  {
   "cell_type": "code",
   "execution_count": 4,
   "id": "9dac1cb6",
   "metadata": {},
   "outputs": [
    {
     "name": "stdout",
     "output_type": "stream",
     "text": [
      "                                                 urls\n",
      "0   https://www.ulta.com/p/black-honey-more-lipsti...\n",
      "1             https://www.ulta.com/shop/skin-care/all\n",
      "2   https://www.ulta.com/p/ultra-repair-cream-xlsI...\n",
      "3   https://www.ulta.com/p/tl-advanced-tightening-...\n",
      "4   https://www.ulta.com/p/banana-bright-vitamin-c...\n",
      "5   https://www.ulta.com/p/banana-bright-vitamin-c...\n",
      "6   https://www.ulta.com/p/big-barrier-super-set-p...\n",
      "7   https://www.ulta.com/p/advanced-anti-aging-die...\n",
      "8   https://www.ulta.com/p/precleanse-cleansing-oi...\n",
      "9   https://www.ulta.com/p/hyaluronic-acid-serum-p...\n",
      "10  https://www.ulta.com/p/cryo-flash-instant-lift...\n",
      "11  https://www.ulta.com/p/even-better-makeup-broa...\n",
      "12  https://www.ulta.com/p/glycolic-acid-7-exfolia...\n",
      "13  https://www.ulta.com/p/renergie-multi-action-l...\n",
      "14  https://www.ulta.com/p/miracle-patch-3-step-po...\n",
      "15  https://www.ulta.com/p/moisture-surge-100h-aut...\n",
      "16  https://www.ulta.com/p/unseen-sunscreen-spf-40...\n",
      "17  https://www.ulta.com/p/peptight-tightening-nec...\n",
      "18  https://www.ulta.com/p/niacinamide-10-zinc-1-b...\n",
      "19  https://www.ulta.com/p/deluxe-bronzing-mousse-...\n",
      "20  https://www.ulta.com/p/moisturizing-cream-body...\n",
      "21  https://www.ulta.com/p/ultra-repair-cream-xlsI...\n",
      "22  https://www.ulta.com/p/niacinamide-10-zinc-1-b...\n",
      "23  https://www.ulta.com/p/tonique-confort-hydrati...\n",
      "24  https://www.ulta.com/p/toleriane-double-repair...\n",
      "25  https://www.ulta.com/p/mineral-mattescreen-spf...\n",
      "26  https://www.ulta.com/p/umbra-mineral-cream-spf...\n",
      "27  https://www.ulta.com/p/moisturizing-cream-body...\n",
      "28  https://www.ulta.com/p/ultra-repair-cream-xlsI...\n",
      "29  https://www.ulta.com/p/niacinamide-10-zinc-1-b...\n",
      "30  https://www.ulta.com/p/tonique-confort-hydrati...\n",
      "31  https://www.ulta.com/p/toleriane-double-repair...\n",
      "32  https://www.ulta.com/p/mineral-mattescreen-spf...\n",
      "33  https://www.ulta.com/p/umbra-mineral-cream-spf...\n",
      "Skincare DataFrame Loaded:   product_type\n",
      "0  Moisturizer\n",
      "1     Cleanser\n",
      "2        Serum\n"
     ]
    }
   ],
   "source": [
    "# Load the skincare DataFrame (replace this line with actual loading code if necessary)\n",
    "skincare = pd.read_csv('export_skincare.csv')\n",
    "print(skincare)\n",
    "# For testing purposes, we can simulate a sample DataFrame.\n",
    "data = {'product_type': ['Moisturizer', 'Cleanser', 'Serum']}\n",
    "skincare = pd.DataFrame(data)\n",
    "print('Skincare DataFrame Loaded:', skincare.head())\n"
   ]
  },
  {
   "cell_type": "code",
   "execution_count": 3,
   "id": "d4c3e144-d6d9-4211-b189-f680b4638275",
   "metadata": {},
   "outputs": [
    {
     "data": {
      "text/html": [
       "<div>\n",
       "<style scoped>\n",
       "    .dataframe tbody tr th:only-of-type {\n",
       "        vertical-align: middle;\n",
       "    }\n",
       "\n",
       "    .dataframe tbody tr th {\n",
       "        vertical-align: top;\n",
       "    }\n",
       "\n",
       "    .dataframe thead th {\n",
       "        text-align: right;\n",
       "    }\n",
       "</style>\n",
       "<table border=\"1\" class=\"dataframe\">\n",
       "  <thead>\n",
       "    <tr style=\"text-align: right;\">\n",
       "      <th></th>\n",
       "      <th>product_type</th>\n",
       "    </tr>\n",
       "  </thead>\n",
       "  <tbody>\n",
       "    <tr>\n",
       "      <th>0</th>\n",
       "      <td>Moisturizer</td>\n",
       "    </tr>\n",
       "    <tr>\n",
       "      <th>1</th>\n",
       "      <td>Cleanser</td>\n",
       "    </tr>\n",
       "    <tr>\n",
       "      <th>2</th>\n",
       "      <td>Serum</td>\n",
       "    </tr>\n",
       "  </tbody>\n",
       "</table>\n",
       "</div>"
      ],
      "text/plain": [
       "  product_type\n",
       "0  Moisturizer\n",
       "1     Cleanser\n",
       "2        Serum"
      ]
     },
     "execution_count": 3,
     "metadata": {},
     "output_type": "execute_result"
    }
   ],
   "source": [
    "skincare"
   ]
  },
  {
   "cell_type": "code",
   "execution_count": null,
   "id": "903f3de4",
   "metadata": {},
   "outputs": [],
   "source": [
    "# Check if skincare DataFrame is loaded and has data\n",
    "if 'skincare' not in locals() or skincare.empty:\n",
    "    print(\"Error: 'skincare' DataFrame is not loaded or is empty.\")\n",
    "else:\n",
    "    print('Skincare DataFrame is loaded and has data.')\n"
   ]
  },
  {
   "cell_type": "code",
   "execution_count": null,
   "id": "cb2eca34",
   "metadata": {},
   "outputs": [],
   "source": [
    "# Check if 'product_type' column exists\n",
    "if 'product_type' not in skincare.columns:\n",
    "    print(\"Error: 'product_type' column does not exist in 'skincare' DataFrame.\")\n",
    "else:\n",
    "    print(\"'product_type' column exists in 'skincare' DataFrame.\")\n"
   ]
  },
  {
   "cell_type": "code",
   "execution_count": null,
   "id": "4510aed2",
   "metadata": {},
   "outputs": [],
   "source": [
    "# Display unique values of 'product_type' to verify\n",
    "if 'product_type' in skincare.columns:\n",
    "    unique_types = skincare['product_type'].unique()\n",
    "    print(\"Unique product types:\", unique_types)\n",
    "else:\n",
    "    print(\"Cannot display unique values as 'product_type' column is missing.\")\n"
   ]
  }
 ],
 "metadata": {
  "kernelspec": {
   "display_name": "Python 3 (ipykernel)",
   "language": "python",
   "name": "python3"
  },
  "language_info": {
   "codemirror_mode": {
    "name": "ipython",
    "version": 3
   },
   "file_extension": ".py",
   "mimetype": "text/x-python",
   "name": "python",
   "nbconvert_exporter": "python",
   "pygments_lexer": "ipython3",
   "version": "3.11.7"
  }
 },
 "nbformat": 4,
 "nbformat_minor": 5
}
