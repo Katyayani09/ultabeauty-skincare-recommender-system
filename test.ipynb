{
 "cells": [
  {
   "cell_type": "code",
   "execution_count": 1,
   "metadata": {
    "colab": {
     "base_uri": "https://localhost:8080/",
     "height": 206
    },
    "id": "1e-Aq6cKDkj7",
    "outputId": "e0cb3561-b0b0-4378-9a4b-76feb4d46dcc"
   },
   "outputs": [
    {
     "name": "stderr",
     "output_type": "stream",
     "text": [
      "2024-11-04 02:25:45.508 WARNING streamlit.runtime.scriptrunner_utils.script_run_context: Thread 'MainThread': missing ScriptRunContext! This warning can be ignored when running in bare mode.\n",
      "2024-11-04 02:25:45.847 WARNING streamlit.runtime.scriptrunner_utils.script_run_context: Thread 'MainThread': missing ScriptRunContext! This warning can be ignored when running in bare mode.\n",
      "2024-11-04 02:25:45.848 WARNING streamlit.runtime.scriptrunner_utils.script_run_context: Thread 'MainThread': missing ScriptRunContext! This warning can be ignored when running in bare mode.\n",
      "2024-11-04 02:25:45.848 WARNING streamlit.runtime.scriptrunner_utils.script_run_context: Thread 'MainThread': missing ScriptRunContext! This warning can be ignored when running in bare mode.\n",
      "2024-11-04 02:25:45.849 WARNING streamlit.runtime.scriptrunner_utils.script_run_context: Thread 'MainThread': missing ScriptRunContext! This warning can be ignored when running in bare mode.\n",
      "2024-11-04 02:25:45.878 \n",
      "  \u001b[33m\u001b[1mWarning:\u001b[0m to view this Streamlit app on a browser, run it with the following\n",
      "  command:\n",
      "\n",
      "    streamlit run /opt/anaconda3/lib/python3.11/site-packages/ipykernel_launcher.py [ARGUMENTS]\n",
      "2024-11-04 02:25:45.878 Thread 'MainThread': missing ScriptRunContext! This warning can be ignored when running in bare mode.\n",
      "2024-11-04 02:25:45.878 Thread 'MainThread': missing ScriptRunContext! This warning can be ignored when running in bare mode.\n",
      "2024-11-04 02:25:45.878 Thread 'MainThread': missing ScriptRunContext! This warning can be ignored when running in bare mode.\n",
      "2024-11-04 02:25:45.879 Thread 'MainThread': missing ScriptRunContext! This warning can be ignored when running in bare mode.\n",
      "2024-11-04 02:25:45.879 Thread 'MainThread': missing ScriptRunContext! This warning can be ignored when running in bare mode.\n",
      "2024-11-04 02:25:45.879 Thread 'MainThread': missing ScriptRunContext! This warning can be ignored when running in bare mode.\n",
      "2024-11-04 02:25:45.879 Thread 'MainThread': missing ScriptRunContext! This warning can be ignored when running in bare mode.\n",
      "2024-11-04 02:25:45.879 Thread 'MainThread': missing ScriptRunContext! This warning can be ignored when running in bare mode.\n",
      "2024-11-04 02:25:45.879 Thread 'MainThread': missing ScriptRunContext! This warning can be ignored when running in bare mode.\n",
      "2024-11-04 02:25:45.879 Thread 'MainThread': missing ScriptRunContext! This warning can be ignored when running in bare mode.\n",
      "2024-11-04 02:25:45.880 Thread 'MainThread': missing ScriptRunContext! This warning can be ignored when running in bare mode.\n",
      "2024-11-04 02:25:45.881 Thread 'MainThread': missing ScriptRunContext! This warning can be ignored when running in bare mode.\n",
      "2024-11-04 02:25:45.881 Thread 'MainThread': missing ScriptRunContext! This warning can be ignored when running in bare mode.\n",
      "2024-11-04 02:25:45.881 Thread 'MainThread': missing ScriptRunContext! This warning can be ignored when running in bare mode.\n",
      "2024-11-04 02:25:45.881 Thread 'MainThread': missing ScriptRunContext! This warning can be ignored when running in bare mode.\n",
      "2024-11-04 02:25:45.881 Thread 'MainThread': missing ScriptRunContext! This warning can be ignored when running in bare mode.\n",
      "2024-11-04 02:25:45.882 Thread 'MainThread': missing ScriptRunContext! This warning can be ignored when running in bare mode.\n",
      "2024-11-04 02:25:45.882 Thread 'MainThread': missing ScriptRunContext! This warning can be ignored when running in bare mode.\n",
      "2024-11-04 02:25:45.882 Thread 'MainThread': missing ScriptRunContext! This warning can be ignored when running in bare mode.\n",
      "2024-11-04 02:25:45.882 Thread 'MainThread': missing ScriptRunContext! This warning can be ignored when running in bare mode.\n"
     ]
    }
   ],
   "source": [
    "import streamlit as st\n",
    "from streamlit_option_menu import option_menu\n",
    "import pandas as pd\n",
    "\n",
    "# Import the Dataset \n",
    "skincare = pd.read_csv(\"export_skincare.csv\", encoding='utf-8')\n",
    "\n",
    "# Set up the page\n",
    "st.set_page_config(page_title=\"Skin Care Recommender System\", page_icon=\":rose:\", layout=\"wide\")\n",
    "\n",
    "# Menu options\n",
    "def streamlit_menu(example=2):\n",
    "    if example == 1:\n",
    "        with st.sidebar:\n",
    "            selected = option_menu(\"Main Menu\", [\"Skin Care\", \"Get Recommendation\", \"Skin Care 101\"], icons=[\"house\", \"stars\", \"book\"], menu_icon=\"cast\", default_index=0)\n",
    "    elif example == 2:\n",
    "        selected = option_menu(None, [\"Skin Care\", \"Get Recommendation\", \"Skin Care 101\"], icons=[\"house\", \"stars\", \"book\"], menu_icon=\"cast\", default_index=0, orientation=\"horizontal\")\n",
    "    elif example == 3:\n",
    "        selected = option_menu(None, [\"Skin Care\", \"Get Recommendation\", \"Skin Care 101\"], icons=[\"house\", \"stars\", \"book\"], menu_icon=\"cast\", default_index=0, orientation=\"horizontal\",\n",
    "                               styles={\n",
    "                                   \"container\": {\"padding\": \"0!important\", \"background-color\": \"#fafafa\"},\n",
    "                                   \"icon\": {\"color\": \"orange\", \"font-size\": \"25px\"},\n",
    "                                   \"nav-link\": {\"font-size\": \"25px\", \"text-align\": \"left\", \"margin\": \"0px\", \"--hover-color\": \"#eee\"},\n",
    "                                   \"nav-link-selected\": {\"background-color\": \"green\"},\n",
    "                               })\n",
    "    return selected\n",
    "\n",
    "selected = streamlit_menu(example=2)\n",
    "\n",
    "# Display content based on selection\n",
    "if selected == \"Skin Care\":\n",
    "    st.title(f\"{selected} Product Recommender :sparkles:\")\n",
    "    st.write('---')\n",
    "    st.write(\"##### **The Skincare Product Recommendation App provides product recommendations based on your skin type and issues.**\")\n",
    "    \n",
    "    # Display a video\n",
    "    video_file = open(\"skincare.mp4\", \"rb\").read()\n",
    "    st.video(video_file, start_time=1)\n",
    "    \n",
    "    st.write(\"##### You will receive recommendations tailored to your skin needs from over 1200 products. Choose *Get Recommendation* to start or *Skin Care 101* for tips and tricks.\")\n",
    "    st.info('Credit: Created by Katyayani Jandhyala')\n",
    "\n",
    "elif selected == \"Get Recommendation\":\n",
    "    st.title(\"Let's Get Recommendations\")\n",
    "    st.write(\"##### **Enter your skin type, concerns, and desired benefits to receive product recommendations.**\")\n",
    "    \n",
    "    first, last = st.columns(2)\n",
    "    \n",
    "    # Select product category\n",
    "    category = first.selectbox(\"Product Category:\", options=skincare['product_type'].unique())\n",
    "    category_pt = skincare[skincare['product_type'] == category]\n",
    "    \n",
    "    # Display selected category data\n",
    "    st.write(category_pt)\n"
   ]
  },
  {
   "cell_type": "code",
   "execution_count": null,
   "metadata": {},
   "outputs": [],
   "source": []
  }
 ],
 "metadata": {
  "colab": {
   "provenance": []
  },
  "kernelspec": {
   "display_name": "Python 3 (ipykernel)",
   "language": "python",
   "name": "python3"
  },
  "language_info": {
   "codemirror_mode": {
    "name": "ipython",
    "version": 3
   },
   "file_extension": ".py",
   "mimetype": "text/x-python",
   "name": "python",
   "nbconvert_exporter": "python",
   "pygments_lexer": "ipython3",
   "version": "3.11.7"
  }
 },
 "nbformat": 4,
 "nbformat_minor": 4
}
